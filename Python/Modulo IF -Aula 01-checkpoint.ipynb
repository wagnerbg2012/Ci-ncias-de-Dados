{
 "cells": [
  {
   "cell_type": "markdown",
   "id": "e330e193",
   "metadata": {},
   "source": [
    "Exemplo:"
   ]
  },
  {
   "cell_type": "code",
   "execution_count": 5,
   "id": "eccc9f5a",
   "metadata": {},
   "outputs": [],
   "source": [
    "meta= 50000\n",
    "qtde_vendida = 30000\n",
    "if qtde_vendida > meta:\n",
    "    print('Batemos a meta de vendas {} unidades'.format(qtde_vendida))"
   ]
  },
  {
   "cell_type": "code",
   "execution_count": 4,
   "id": "8a1bfb47",
   "metadata": {},
   "outputs": [
    {
     "name": "stdout",
     "output_type": "stream",
     "text": [
      "Batemos a meta de vendas de iphone,vendemos 65300 unidade\n"
     ]
    }
   ],
   "source": [
    "meta =5000\n",
    "qtde_vendida=65300\n",
    "if qtde_vendida>meta:\n",
    "    print('Batemos a meta de vendas de iphone,vendemos {} unidade' .format(qtde_vendida))\n",
    "else:\n",
    "    print( 'Infelizmente não batemos a meta de vendas deiphone,vendemos {} unidade' .format(qtde_vendida))"
   ]
  },
  {
   "cell_type": "code",
   "execution_count": 1,
   "id": "a2235956",
   "metadata": {},
   "outputs": [
    {
     "name": "stdout",
     "output_type": "stream",
     "text": [
      "ganhou 750.0 de bônus\n"
     ]
    }
   ],
   "source": [
    "meta = 20000\n",
    "vendas =25000\n",
    "\n",
    "if vendas < meta:\n",
    "    print ('Não ganho bônus')\n",
    "elif vendas > (meta * 2):\n",
    "    bonus =0.07 * vendas\n",
    "    print('Ganhou {} de bônus' .format(bonus))\n",
    "else:\n",
    "    bonus = 0.03 * vendas\n",
    "    print('ganhou {} de bônus'.format(bonus))"
   ]
  },
  {
   "cell_type": "code",
   "execution_count": null,
   "id": "450b9739",
   "metadata": {},
   "outputs": [],
   "source": [
    "produto= input('')"
   ]
  }
 ],
 "metadata": {
  "kernelspec": {
   "display_name": "Python 3 (ipykernel)",
   "language": "python",
   "name": "python3"
  },
  "language_info": {
   "codemirror_mode": {
    "name": "ipython",
    "version": 3
   },
   "file_extension": ".py",
   "mimetype": "text/x-python",
   "name": "python",
   "nbconvert_exporter": "python",
   "pygments_lexer": "ipython3",
   "version": "3.9.12"
  },
  "vscode": {
   "interpreter": {
    "hash": "32ae7423734311919fd51312e2b193610d2b28157eb8a942101541aa22d75aee"
   }
  }
 },
 "nbformat": 4,
 "nbformat_minor": 5
}
