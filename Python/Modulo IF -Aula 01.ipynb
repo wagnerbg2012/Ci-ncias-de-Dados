{
 "cells": [
  {
   "cell_type": "markdown",
   "id": "c2b51642",
   "metadata": {},
   "source": [
    "Exemplo:"
   ]
  },
  {
   "cell_type": "code",
   "execution_count": 1,
   "id": "42f03da8",
   "metadata": {},
   "outputs": [],
   "source": [
    "meta= 50000\n",
    "qtde_vendida = 30000\n",
    "if qtde_vendida > meta:\n",
    "    print('Batemos a meta de vendas {} unidades'.format(qtde_vendida))"
   ]
  },
  {
   "cell_type": "code",
   "execution_count": 2,
   "id": "cf3096b5",
   "metadata": {},
   "outputs": [
    {
     "name": "stdout",
     "output_type": "stream",
     "text": [
      "Infelizmente não batemos a meta de vendas deiphone,vendemos 65300 unidade\n"
     ]
    }
   ],
   "source": [
    "meta =500000\n",
    "qtde_vendida=65300\n",
    "if qtde_vendida>meta:\n",
    "    print('Batemos a meta de vendas de iphone,vendemos {} unidade' .format(qtde_vendida))\n",
    "else:\n",
    "    print( 'Infelizmente não batemos a meta de vendas deiphone,vendemos {} unidade' .format(qtde_vendida))"
   ]
  },
  {
   "cell_type": "code",
   "execution_count": 3,
   "id": "68879080",
   "metadata": {},
   "outputs": [
    {
     "name": "stdout",
     "output_type": "stream",
     "text": [
      "ganhou 750.0 de bônus\n"
     ]
    }
   ],
   "source": [
    "meta = 20000\n",
    "vendas =25000\n",
    "\n",
    "if vendas < meta:\n",
    "    print ('Não ganho bônus')\n",
    "elif vendas > (meta * 2):\n",
    "    bonus =0.07 * vendas\n",
    "    print('Ganhou {} de bônus' .format(bonus))\n",
    "else:\n",
    "    bonus = 0.03 * vendas\n",
    "    print('ganhou {} de bônus'.format(bonus))"
   ]
  },
  {
   "cell_type": "code",
   "execution_count": null,
   "id": "88d88c6a",
   "metadata": {},
   "outputs": [],
   "source": []
  },
  {
   "cell_type": "code",
   "execution_count": null,
   "id": "122177f1",
   "metadata": {},
   "outputs": [],
   "source": []
  }
 ],
 "metadata": {
  "kernelspec": {
   "display_name": "Python 3.9.12 ('base')",
   "language": "python",
   "name": "python3"
  },
  "language_info": {
   "codemirror_mode": {
    "name": "ipython",
    "version": 3
   },
   "file_extension": ".py",
   "mimetype": "text/x-python",
   "name": "python",
   "nbconvert_exporter": "python",
   "pygments_lexer": "ipython3",
   "version": "3.9.12"
  },
  "vscode": {
   "interpreter": {
    "hash": "63becba562fb932eab4e7d3bd277115c0199cb4d31fa4fe71facb70816a62776"
   }
  }
 },
 "nbformat": 4,
 "nbformat_minor": 5
}
