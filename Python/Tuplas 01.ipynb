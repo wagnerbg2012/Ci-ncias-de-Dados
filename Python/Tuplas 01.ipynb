{
 "cells": [
  {
   "cell_type": "markdown",
   "id": "2dcfddbf",
   "metadata": {},
   "source": [
    "Tuplas\n",
    "\n",
    "Estrutura:\n",
    "tupla =(Valor,Valor,Valor,...)\n",
    "\n",
    "Diferença\n",
    "àrece uma lista , mas é imutável.\n",
    "\n",
    "Vantagens:\n",
    "*Mais eficiente (em termo de performance)\n",
    "*Protege a base de dados(por ser imutavel)\n",
    "*Muito usado para dados heterogÊneos\n",
    "\n",
    "Criando Tuplas"
   ]
  },
  {
   "cell_type": "code",
   "execution_count": 4,
   "id": "8b0e5eb0",
   "metadata": {},
   "outputs": [
    {
     "name": "stdout",
     "output_type": "stream",
     "text": [
      "('lira', '25/08/2020', 2000, 'Estagiário')\n"
     ]
    }
   ],
   "source": [
    "vendas = ('lira','25/08/2020',2000,'Estagiário')\n",
    "print(vendas)"
   ]
  },
  {
   "cell_type": "code",
   "execution_count": null,
   "id": "4d8c7f51",
   "metadata": {},
   "outputs": [],
   "source": []
  }
 ],
 "metadata": {
  "kernelspec": {
   "display_name": "Python 3 (ipykernel)",
   "language": "python",
   "name": "python3"
  },
  "language_info": {
   "codemirror_mode": {
    "name": "ipython",
    "version": 3
   },
   "file_extension": ".py",
   "mimetype": "text/x-python",
   "name": "python",
   "nbconvert_exporter": "python",
   "pygments_lexer": "ipython3",
   "version": "3.9.12"
  }
 },
 "nbformat": 4,
 "nbformat_minor": 5
}
