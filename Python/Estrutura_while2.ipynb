{
 "cells": [
  {
   "cell_type": "code",
   "execution_count": 4,
   "id": "6c209e15",
   "metadata": {},
   "outputs": [
    {
     "name": "stdout",
     "output_type": "stream",
     "text": [
      "Registre um produto. Para cancelar o registro de um novo produto, basta apertar enter com caixa vaziaArros\n",
      "Registre um produto. Para cancelar o registro de um novo produto, basta apertar enter com caixa vaziafeijão\n",
      "Registre um produto. Para cancelar o registro de um novo produto, basta apertar enter com caixa vaziamilho\n",
      "Registre um produto. Para cancelar o registro de um novo produto, basta apertar enter com caixa vaziateste\n",
      "Registre um produto. Para cancelar o registro de um novo produto, basta apertar enter com caixa vaziacasa\n",
      "Registre um produto. Para cancelar o registro de um novo produto, basta apertar enter com caixa vazia\n",
      "Registro finalizado. As vendas cadastradas foram:['Arros', 'feijão', 'milho', 'teste', 'casa']\n"
     ]
    }
   ],
   "source": [
    "venda = input('Registre um produto. Para cancelar o registro de um novo produto, basta apertar enter com caixa vazia')\n",
    "vendas =[]\n",
    "\n",
    "while venda != '':\n",
    "    vendas.append(venda)\n",
    "    venda = input('Registre um produto. Para cancelar o registro de um novo produto, basta apertar enter com caixa vazia')\n",
    "    \n",
    "print('Registro finalizado. As vendas cadastradas foram:{}' .format(vendas))"
   ]
  },
  {
   "cell_type": "code",
   "execution_count": 15,
   "id": "669bbc30",
   "metadata": {},
   "outputs": [
    {
     "name": "stdout",
     "output_type": "stream",
     "text": [
      "Maria bateu a meta. Vendas: 941\n",
      "José bateu a meta. Vendas: 852\n",
      "Antonio bateu a meta. Vendas: 783\n",
      "João bateu a meta. Vendas: 714\n",
      "Francisco bateu a meta. Vendas: 697\n",
      "Ana bateu a meta. Vendas: 686\n",
      "luiz bateu a meta. Vendas: 685\n",
      "paulo bateu a meta. Vendas: 670\n",
      "Carlos bateu a meta. Vendas: 631\n",
      "Manoel bateu a meta. Vendas: 453\n",
      "pedro bateu a meta. Vendas: 386\n",
      "Francisco bateu a meta. Vendas: 371\n"
     ]
    },
    {
     "ename": "IndexError",
     "evalue": "list index out of range",
     "output_type": "error",
     "traceback": [
      "\u001b[1;31m---------------------------------------------------------------------------\u001b[0m",
      "\u001b[1;31mIndexError\u001b[0m                                Traceback (most recent call last)",
      "Input \u001b[1;32mIn [15]\u001b[0m, in \u001b[0;36m<cell line: 5>\u001b[1;34m()\u001b[0m\n\u001b[0;32m      4\u001b[0m i\u001b[38;5;241m=\u001b[39m\u001b[38;5;241m0\u001b[39m\n\u001b[0;32m      5\u001b[0m \u001b[38;5;28;01mwhile\u001b[39;00m vendas[i] \u001b[38;5;241m>\u001b[39m meta:\n\u001b[1;32m----> 6\u001b[0m     \u001b[38;5;28mprint\u001b[39m(\u001b[38;5;124m'\u001b[39m\u001b[38;5;132;01m{}\u001b[39;00m\u001b[38;5;124m bateu a meta. Vendas: \u001b[39m\u001b[38;5;132;01m{}\u001b[39;00m\u001b[38;5;124m'\u001b[39m\u001b[38;5;241m.\u001b[39mformat(\u001b[43mVendedor\u001b[49m\u001b[43m[\u001b[49m\u001b[43mi\u001b[49m\u001b[43m]\u001b[49m, vendas[i]))\n\u001b[0;32m      7\u001b[0m     i \u001b[38;5;241m=\u001b[39m i\u001b[38;5;241m+\u001b[39m \u001b[38;5;241m1\u001b[39m\n",
      "\u001b[1;31mIndexError\u001b[0m: list index out of range"
     ]
    }
   ],
   "source": [
    "vendas =[941, 852,783,714,697,686,685,670,631,453,386,371,294,269,259,218,208,163,125,102,87,47,7]\n",
    "Vendedor = ['Maria','José','Antonio','João','Francisco','Ana','luiz','paulo','Carlos','Manoel','pedro','Francisco']\n",
    "meta=50\n",
    "i=0\n",
    "while vendas[i] > meta:\n",
    "    print('{} bateu a meta. Vendas: {}'.format(Vendedor[i], vendas[i]))\n",
    "    i = i+ 1\n",
    "    "
   ]
  },
  {
   "cell_type": "code",
   "execution_count": null,
   "id": "cc06c6b0",
   "metadata": {},
   "outputs": [],
   "source": []
  },
  {
   "cell_type": "code",
   "execution_count": null,
   "id": "a3e89480",
   "metadata": {},
   "outputs": [],
   "source": []
  }
 ],
 "metadata": {
  "kernelspec": {
   "display_name": "Python 3 (ipykernel)",
   "language": "python",
   "name": "python3"
  },
  "language_info": {
   "codemirror_mode": {
    "name": "ipython",
    "version": 3
   },
   "file_extension": ".py",
   "mimetype": "text/x-python",
   "name": "python",
   "nbconvert_exporter": "python",
   "pygments_lexer": "ipython3",
   "version": "3.9.12"
  }
 },
 "nbformat": 4,
 "nbformat_minor": 5
}
