{
 "cells": [
  {
   "cell_type": "markdown",
   "id": "df62a466",
   "metadata": {},
   "source": [
    "# Analisando o engajamento do Instagram\n",
    "\n",
    "### O que queremos responder?\n",
    "- Qual tipo de conteúdo **mais engaja** no Instagram da minha empresa?\n",
    "<br><br>\n",
    "- Temos a base de dados do Instagram **desde que o usuário começou a postar na marca até o dia 27/março**\n",
    "<br><br>\n",
    "- Ele também dá alguns direcionamentos:\n",
    "    - Podem ignorar a coluna visualizações, queremos entender apenas curtidas, comentários e interações\n",
    "    - Tags vazias é que realmente não possuem tag (favor tratar como vazio)"
   ]
  },
  {
   "cell_type": "markdown",
   "id": "d387ddca",
   "metadata": {},
   "source": [
    "### Vamos importar e visualizar a nossa base"
   ]
  },
  {
   "cell_type": "code",
   "execution_count": 1,
   "id": "67161c37",
   "metadata": {},
   "outputs": [],
   "source": [
    "# Importando o pandas\n",
    "import pandas as pd"
   ]
  },
  {
   "cell_type": "code",
   "execution_count": null,
   "id": "2c773610",
   "metadata": {},
   "outputs": [],
   "source": [
    "# Importar a base em excel\n",
    "# - Base: 08. Analisando o engajamento no Instagram.xlsx\n",
    "base=pd.read_CSV(\"Base: 08. Analisando o engajamento no Instagram.xlsx\")"
   ]
  },
  {
   "cell_type": "code",
   "execution_count": null,
   "id": "5297ea65",
   "metadata": {},
   "outputs": [],
   "source": [
    "# Visualizando as 5 primeiras linhas"
   ]
  },
  {
   "cell_type": "markdown",
   "id": "29cadf9a",
   "metadata": {},
   "source": [
    "### Como ele pediu para não considerar a coluna visualizações, vamos retirar essa coluna da base"
   ]
  },
  {
   "cell_type": "markdown",
   "id": "3fdb81d6",
   "metadata": {},
   "source": [
    "**O .drop() permite apagar uma coluna ou linha da base:** <br>\n",
    "base<font color=\"blue\">**.drop(**</font>nome_coluna,axis=1<font color=\"blue\">**)**</font>\n",
    "- O axis = 1 se refere a coluna, enquanto axis = 0 se refere a linha\n",
    "- Devemos passar o nome da coluna que queremos apagar da base\n",
    "- Em caso de mais de 1 coluna, passamos a lista entre colchetes"
   ]
  },
  {
   "cell_type": "code",
   "execution_count": null,
   "id": "b201a9e3",
   "metadata": {},
   "outputs": [],
   "source": [
    "# Apagando a coluna \"Visualizações\"\n",
    "base = base.drop(\"Visualizações\",axis=1)"
   ]
  },
  {
   "cell_type": "code",
   "execution_count": null,
   "id": "78183f3a",
   "metadata": {},
   "outputs": [],
   "source": [
    "# Visualizando novamente as 5 primeiras linhas"
   ]
  },
  {
   "cell_type": "code",
   "execution_count": null,
   "id": "0cb64493",
   "metadata": {},
   "outputs": [],
   "source": [
    "# Visualizando as 5 últimas linhas"
   ]
  },
  {
   "cell_type": "code",
   "execution_count": null,
   "id": "269cc8ac",
   "metadata": {},
   "outputs": [],
   "source": [
    "# Tamanho da base"
   ]
  },
  {
   "cell_type": "code",
   "execution_count": null,
   "id": "689b06cc",
   "metadata": {},
   "outputs": [],
   "source": [
    "# Se a base for pequena, o display mostra a base completa"
   ]
  },
  {
   "cell_type": "code",
   "execution_count": null,
   "id": "79aa692b",
   "metadata": {},
   "outputs": [],
   "source": [
    "# Verificando as informações"
   ]
  },
  {
   "cell_type": "markdown",
   "id": "9b1aeb55",
   "metadata": {},
   "source": [
    "### Carrossel possui apenas 8 valores não nulos\n",
    "- Vamos entender os valores de carrossel"
   ]
  },
  {
   "cell_type": "code",
   "execution_count": null,
   "id": "24551e89",
   "metadata": {},
   "outputs": [],
   "source": [
    "# Contando os valores que aparecem na coluna Carrossel"
   ]
  },
  {
   "cell_type": "markdown",
   "id": "8abfd8b2",
   "metadata": {},
   "source": [
    "- Na verdade, os valores nulos são de postagens que não são carrossel. Sendo assim o nulo deveria ser \"N\""
   ]
  },
  {
   "cell_type": "markdown",
   "id": "09b4c75c",
   "metadata": {},
   "source": [
    "### Tratando os valores nulos"
   ]
  },
  {
   "cell_type": "code",
   "execution_count": null,
   "id": "25aa6504",
   "metadata": {},
   "outputs": [],
   "source": [
    "# Filtrando os valores em que carrossel é nulo"
   ]
  },
  {
   "cell_type": "code",
   "execution_count": null,
   "id": "e4fb594d",
   "metadata": {},
   "outputs": [],
   "source": [
    "# Buscando valores que NAO sao nulos"
   ]
  },
  {
   "cell_type": "code",
   "execution_count": null,
   "id": "1bfd8de9",
   "metadata": {},
   "outputs": [],
   "source": [
    "# Selecionando apenas a coluna Carrossel"
   ]
  },
  {
   "cell_type": "code",
   "execution_count": null,
   "id": "5cad67e6",
   "metadata": {},
   "outputs": [],
   "source": [
    "# Agora vamos atribuir o valor N para essa coluna"
   ]
  },
  {
   "cell_type": "markdown",
   "id": "8562970f",
   "metadata": {},
   "source": [
    "**Verificando novamente os valores de Carrossel:**"
   ]
  },
  {
   "cell_type": "code",
   "execution_count": null,
   "id": "0ece9ce3",
   "metadata": {},
   "outputs": [],
   "source": [
    "# Verificando novamente os valores dessa coluna"
   ]
  },
  {
   "cell_type": "markdown",
   "id": "521cb806",
   "metadata": {},
   "source": [
    "### Mostrando as informações estatísticas"
   ]
  },
  {
   "cell_type": "code",
   "execution_count": null,
   "id": "63bf723b",
   "metadata": {},
   "outputs": [],
   "source": [
    "# Descrição estatística da base"
   ]
  },
  {
   "cell_type": "markdown",
   "id": "2f15ac81",
   "metadata": {},
   "source": [
    "### Visualizando essas informações de maneira gráfica"
   ]
  },
  {
   "cell_type": "code",
   "execution_count": null,
   "id": "879e04e5",
   "metadata": {},
   "outputs": [],
   "source": [
    "# Um gráfico de dispersão ajudaria a entender melhor curtidas e comentários\n",
    "base.plot(kind=\"scatter\",x=\"Data\",y=\"Curtidas\",figsize=(14,8));"
   ]
  },
  {
   "cell_type": "code",
   "execution_count": null,
   "id": "de5eaad2",
   "metadata": {},
   "outputs": [],
   "source": [
    "# Podemos colocar curtidas e comentários no mesmo gráfico\n",
    "ax = base.plot(kind=\"scatter\",x=\"Data\",y=\"Curtidas\",color=\"blue\",label=\"Curtidas\",figsize=(14,8));\n",
    "base.plot(kind=\"scatter\",x=\"Data\",y=\"Comentários\",color=\"red\",label=\"Comentários\",figsize=(14,8),ax=ax);"
   ]
  },
  {
   "cell_type": "code",
   "execution_count": null,
   "id": "76e4bf04",
   "metadata": {
    "scrolled": true
   },
   "outputs": [],
   "source": [
    "# A escala de curtidas pode estar atrapalhando a visualização, por isso vamos deixar comentários em um gráfico separado\n",
    "base.plot(kind=\"scatter\",x=\"Data\",y=\"Comentários\",color=\"red\",label=\"Comentários\",figsize=(14,8));"
   ]
  },
  {
   "cell_type": "markdown",
   "id": "1aba2d20",
   "metadata": {},
   "source": [
    "- O gráfico e as informações estatítiscas não estão dizendo muita coisa pois existe uma grande dispersão entre curtidas e comentários\n",
    "- Precisamos verificar se existe um padrão usando as outras colunas de informações"
   ]
  },
  {
   "cell_type": "markdown",
   "id": "dc2bfa7a",
   "metadata": {},
   "source": [
    "### A primeira coisa que podemos fazer é pegar os 5 primeiros registros com mais e menos curtidas"
   ]
  },
  {
   "cell_type": "code",
   "execution_count": null,
   "id": "b7b33b91",
   "metadata": {},
   "outputs": [],
   "source": [
    "# Ordenando os valores\n",
    "base.sort_values(by=\"Curtidas\",ascending=False).head()"
   ]
  },
  {
   "cell_type": "code",
   "execution_count": null,
   "id": "ca9fd6d2",
   "metadata": {},
   "outputs": [],
   "source": [
    "# Selecionando os 5 últimos valores "
   ]
  },
  {
   "cell_type": "markdown",
   "id": "2fd47ab7",
   "metadata": {},
   "source": [
    "- Podemos observar que no top 5 todas as postagens tinham pessoas e eram fotos de campanha\n",
    "- Nas 5 piores postagens, não haviam pessoas e nem eram postagens de campanhas\n",
    "<br><br>\n",
    "- **Isso pode ser um indicador que pessoas e campanhas tem relação com as curtidas**"
   ]
  },
  {
   "cell_type": "markdown",
   "id": "4e84b5bb",
   "metadata": {},
   "source": [
    "### Vamos usar o <font color=\"blue\">group by</font> para entender melhor os dados"
   ]
  },
  {
   "attachments": {
    "08.%20Analisando%20o%20engajamento%20do%20Instagram%20-%20Img1.png": {
     "image/png": "[encoded data removed]"
    }
   },
   "cell_type": "markdown",
   "id": "2354dd77",
   "metadata": {},
   "source": [
    "**O group by é muito análogo a tabela dinâmica que fazemos no Excel**\n",
    "\n",
    "![08.%20Analisando%20o%20engajamento%20do%20Instagram%20-%20Img1.png](attachment:08.%20Analisando%20o%20engajamento%20do%20Instagram%20-%20Img1.png)"
   ]
  },
  {
   "cell_type": "code",
   "execution_count": null,
   "id": "d680955b",
   "metadata": {},
   "outputs": [],
   "source": [
    "# Para melhorar a visualização, vamos criar um padrão no formato dos valores\n",
    "pd.options.display.float_format = '{:,.2f}'.format"
   ]
  },
  {
   "cell_type": "code",
   "execution_count": null,
   "id": "750387f0",
   "metadata": {},
   "outputs": [],
   "source": [
    "# Agrupando as informações por tipo\n",
    "base.groupby(\"Tipo\")[\"Comentários\"].count()"
   ]
  },
  {
   "cell_type": "markdown",
   "id": "90e39d7c",
   "metadata": {},
   "source": [
    "- **Nesse caso pode parecer que vídeo e IGTV são estratégias ruins que não devem ser usadas**"
   ]
  },
  {
   "cell_type": "markdown",
   "id": "6907a3df",
   "metadata": {},
   "source": [
    "**O groupby nos permite agregar os dados, o que facilita muito a visualização** <br>\n",
    "base.<font color=\"blue\">**groupby**</font>(\"<font color=\"red\">**coluna1**</font>\")[\"<font color=\"green\">**coluna2**</font>\"].<font color=\"purple\">**funcao_agregacao()**</font>\n",
    "\n",
    "- O groupby vai agregar pela <font color=\"red\">**coluna1**</font>\n",
    "- A <font color=\"purple\">**função de agregação**</font> será aplicada na <font color=\"green\">**coluna2**</font>"
   ]
  },
  {
   "attachments": {
    "08.%20Analisando%20o%20engajamento%20do%20Instagram%20-%20Img2.png": {
     "image/png": "[encoded data removed]"
    }
   },
   "cell_type": "markdown",
   "id": "1c41a169",
   "metadata": {},
   "source": [
    "![08.%20Analisando%20o%20engajamento%20do%20Instagram%20-%20Img2.png](attachment:08.%20Analisando%20o%20engajamento%20do%20Instagram%20-%20Img2.png)"
   ]
  },
  {
   "cell_type": "markdown",
   "id": "39af57a8",
   "metadata": {},
   "source": [
    "**Inclusive é possível agregar por mais de 1 coluna:** <br>"
   ]
  },
  {
   "cell_type": "code",
   "execution_count": null,
   "id": "99284f8f",
   "metadata": {},
   "outputs": [],
   "source": [
    "# Agrupando por Tipo e Pessoas\n",
    "base.groupby([\"Tipo\",\"Pessoas\"])[\"Curtidas\"].mean()"
   ]
  },
  {
   "cell_type": "markdown",
   "id": "c88797d5",
   "metadata": {},
   "source": [
    "**E também aplicar a função de agregação em várias outras colunas:** <br>"
   ]
  },
  {
   "cell_type": "code",
   "execution_count": null,
   "id": "5929ada6",
   "metadata": {},
   "outputs": [],
   "source": [
    "base.groupby([\"Tipo\",\"Pessoas\"])[[\"Curtidas\",'Comentários']].mean()"
   ]
  },
  {
   "cell_type": "code",
   "execution_count": 63,
   "id": "c6ae189f",
   "metadata": {},
   "outputs": [],
   "source": [
    "# Incluindo a coluna de campanhas"
   ]
  },
  {
   "cell_type": "markdown",
   "id": "82a0ae24",
   "metadata": {},
   "source": [
    "- O groupby já permite ver que publicações de campanha tem um grande engajamento e com foto de pessoas também"
   ]
  },
  {
   "cell_type": "markdown",
   "id": "3fdf4b0b",
   "metadata": {},
   "source": [
    "**Podemos então fazer os agrupamentos que acharmos melhor para entender os nossos dados**"
   ]
  },
  {
   "cell_type": "code",
   "execution_count": null,
   "id": "8af88b91",
   "metadata": {},
   "outputs": [],
   "source": [
    "# Somente para pessoas"
   ]
  },
  {
   "cell_type": "markdown",
   "id": "56bfd702",
   "metadata": {},
   "source": [
    "- **Postagens com pessoas engajam muito mais para essa marca, sendo 3 vezes maior de quando não tem pessoas**"
   ]
  },
  {
   "cell_type": "code",
   "execution_count": null,
   "id": "e2c216ae",
   "metadata": {},
   "outputs": [],
   "source": [
    "# Somente para campanhas"
   ]
  },
  {
   "cell_type": "markdown",
   "id": "d0ca1d20",
   "metadata": {},
   "source": [
    "- **Quando é uma postagem de campanha, o engajamento também é melhor!**"
   ]
  },
  {
   "cell_type": "code",
   "execution_count": null,
   "id": "8c9fa175",
   "metadata": {},
   "outputs": [],
   "source": [
    "# Carrossel (sem filtrar a base)"
   ]
  },
  {
   "cell_type": "code",
   "execution_count": null,
   "id": "49a8cc25",
   "metadata": {},
   "outputs": [],
   "source": [
    "# Podemos também filtrar a base"
   ]
  },
  {
   "cell_type": "markdown",
   "id": "1b9a95df",
   "metadata": {},
   "source": [
    "- **A média sem usar carrossel é melhor do que quando usamos, então não é algo que possa impactar tanto no resultado das mídias dessa empresa olhando inicialmente**\n",
    "    - Nesse caso devemos filtrar apenas as fotos pois só temos carrossel em fotos. Sem esse filtro estaríamos comparando coisas erradas"
   ]
  },
  {
   "cell_type": "markdown",
   "id": "6ee130c8",
   "metadata": {},
   "source": [
    "**Colocando pessoas e campanhas juntos podemos ver como se dá essa diferença**"
   ]
  },
  {
   "cell_type": "code",
   "execution_count": 64,
   "id": "3564fc5f",
   "metadata": {},
   "outputs": [],
   "source": [
    "# Agregando por pessoas e campanhas"
   ]
  },
  {
   "cell_type": "markdown",
   "id": "cd81ea9f",
   "metadata": {},
   "source": [
    "- **A média quando tem pessoas E é publicação de campanhas é de cerca de 19,4 mil curtidas, já quando é apenas pessoas (sem campanha passa para quase 10 mil e se não tiver pessoas chega no máximo a 5,9 mil mesmo em campanhas**\n",
    "<br><br>\n",
    "- **Nesse caso a gente já consegue mostrar para a empresa a importância de incluir pessoas usando os seus produtos, o que gera um aumento considerável no engajamento**"
   ]
  },
  {
   "cell_type": "code",
   "execution_count": 65,
   "id": "35b56e69",
   "metadata": {},
   "outputs": [],
   "source": [
    "# Agregando por pessoas, campanhas e tipo"
   ]
  },
  {
   "cell_type": "markdown",
   "id": "e23b7d3a",
   "metadata": {},
   "source": [
    "- **Analisando novamente a questão do vídeo, ele não parece mais tão ruim assim. Quando feito em campanha e usando pessoas ele teve um resultado bom, inclusive próximo a foto**\n",
    "- O que poderia ter levado a média baixa é que só temos vídeo ou COM pessoa e COM campanha ou sem nenhum dos dois. Não temos nenhum vídeo com apenas um dos dois (pessoa ou campanha)\n",
    "- Já IGTV, mesmo tendo pessoa, não teve um resultado tão bom"
   ]
  },
  {
   "cell_type": "markdown",
   "id": "faf77dee",
   "metadata": {},
   "source": [
    "#### Inclusive podemos entender o que havia gerado a média baixo no vídeo"
   ]
  },
  {
   "cell_type": "code",
   "execution_count": null,
   "id": "a656f5db",
   "metadata": {},
   "outputs": [],
   "source": [
    "# Vamos filtrar a base apenas onde o tipo é Vídeo"
   ]
  },
  {
   "cell_type": "markdown",
   "id": "766ae14d",
   "metadata": {},
   "source": [
    "- **Aqui percebemos que a loja tentou postar 4 vídeos mostrando seus produtos (sem nenhuma pessoa) e o resultado foi baixo. Quando o vídeo foi feito com pessoas aproveitando trends e datas comemorativas o resultado foi muito bom!**"
   ]
  },
  {
   "cell_type": "markdown",
   "id": "e03fd135",
   "metadata": {},
   "source": [
    "## Conclusões\n",
    "- **Em uma análise inicial, postagens incluindo pessoas engajam muito mais que aquelas que não possui ninguém**\n",
    "- **Postagens em épocas de campanha também possuem um melhor engajamento**\n",
    "- **Nessa base, o carrossel não foi um diferencial para melhorar o engajamento da marca**"
   ]
  }
 ],
 "metadata": {
  "kernelspec": {
   "display_name": "Python 3 (ipykernel)",
   "language": "python",
   "name": "python3"
  },
  "language_info": {
   "codemirror_mode": {
    "name": "ipython",
    "version": 3
   },
   "file_extension": ".py",
   "mimetype": "text/x-python",
   "name": "python",
   "nbconvert_exporter": "python",
   "pygments_lexer": "ipython3",
   "version": "3.9.12"
  }
 },
 "nbformat": 4,
 "nbformat_minor": 5
}
